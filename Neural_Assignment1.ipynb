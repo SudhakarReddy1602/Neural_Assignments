{
  "nbformat": 4,
  "nbformat_minor": 0,
  "metadata": {
    "colab": {
      "provenance": [],
      "authorship_tag": "ABX9TyOkxwpdDKgAwOLTeCqnjn15",
      "include_colab_link": true
    },
    "kernelspec": {
      "name": "python3",
      "display_name": "Python 3"
    },
    "language_info": {
      "name": "python"
    }
  },
  "cells": [
    {
      "cell_type": "markdown",
      "metadata": {
        "id": "view-in-github",
        "colab_type": "text"
      },
      "source": [
        "<a href=\"https://colab.research.google.com/github/SudhakarReddy1602/Neural_Assignments/blob/main/Neural_Assignment1.ipynb\" target=\"_parent\"><img src=\"https://colab.research.google.com/assets/colab-badge.svg\" alt=\"Open In Colab\"/></a>"
      ]
    },
    {
      "cell_type": "code",
      "source": [
        "input = \"python\"\n",
        "resultant_string = input[0:3]+input[5]\n",
        "resultant_string[::-1]"
      ],
      "metadata": {
        "colab": {
          "base_uri": "https://localhost:8080/",
          "height": 35
        },
        "id": "sGqytlxX7z4y",
        "outputId": "d96fe74f-da48-431e-dcce-b7166f1f9ebd"
      },
      "execution_count": 29,
      "outputs": [
        {
          "output_type": "execute_result",
          "data": {
            "text/plain": [
              "'ntyp'"
            ],
            "application/vnd.google.colaboratory.intrinsic+json": {
              "type": "string"
            }
          },
          "metadata": {},
          "execution_count": 29
        }
      ]
    },
    {
      "cell_type": "code",
      "source": [
        "\n",
        "del input\n",
        "input_sentence = input(\"Enter a sentence: \")\n",
        "\n",
        "'''Below string method replace() is used to replace python with pythons'''\n",
        "modified_sentence = input_sentence.replace('python', 'pythons')\n",
        "\n",
        "print(\"Modified sentence:\", modified_sentence)"
      ],
      "metadata": {
        "colab": {
          "base_uri": "https://localhost:8080/"
        },
        "id": "9ghN8IZj9830",
        "outputId": "6143c801-5f07-4ffe-f8d3-9961ee266bc1"
      },
      "execution_count": 32,
      "outputs": [
        {
          "output_type": "stream",
          "name": "stdout",
          "text": [
            "Enter a sentence: python\n",
            "Modified sentence: pythons\n"
          ]
        }
      ]
    },
    {
      "cell_type": "code",
      "source": [
        "\n",
        "marks = int(input(\"Enter marks \"))\n",
        "\n",
        "if marks >=90:\n",
        "   print(\"your Grade is A\")\n",
        "elif marks >=80:\n",
        "  print(\"your Grade is B\")\n",
        "elif marks >=70:\n",
        "  print(\"your Grade is c\")\n",
        "elif marks >=60:\n",
        "  print(\"your Grade is D\")"
      ],
      "metadata": {
        "colab": {
          "base_uri": "https://localhost:8080/"
        },
        "id": "KMpuvgpi6ty3",
        "outputId": "e3669666-dab3-410f-e9c6-95320bfcbae3"
      },
      "execution_count": 49,
      "outputs": [
        {
          "output_type": "stream",
          "name": "stdout",
          "text": [
            "Enter marks 87\n",
            "your Grade is B\n"
          ]
        }
      ]
    }
  ]
}