{
  "nbformat": 4,
  "nbformat_minor": 0,
  "metadata": {
    "colab": {
      "provenance": [],
      "authorship_tag": "ABX9TyOwUpLoxVl4BJicZx++k0xl",
      "include_colab_link": true
    },
    "kernelspec": {
      "name": "python3",
      "display_name": "Python 3"
    },
    "language_info": {
      "name": "python"
    }
  },
  "cells": [
    {
      "cell_type": "markdown",
      "metadata": {
        "id": "view-in-github",
        "colab_type": "text"
      },
      "source": [
        "<a href=\"https://colab.research.google.com/github/SudhakarReddy1602/Neural_Assignments/blob/main/ICP2.ipynb\" target=\"_parent\"><img src=\"https://colab.research.google.com/assets/colab-badge.svg\" alt=\"Open In Colab\"/></a>"
      ]
    },
    {
      "cell_type": "markdown",
      "source": [
        "Sudhakar Reddy Venna - 700756157"
      ],
      "metadata": {
        "id": "eEWtzzgbyBPS"
      }
    },
    {
      "cell_type": "markdown",
      "source": [
        "Question 1"
      ],
      "metadata": {
        "id": "UgzYUU_xyG6Q"
      }
    },
    {
      "cell_type": "code",
      "execution_count": 1,
      "metadata": {
        "colab": {
          "base_uri": "https://localhost:8080/"
        },
        "id": "zTMDsqjZw4Ol",
        "outputId": "a3175d2b-f6ae-4517-a817-3881804888fb"
      },
      "outputs": [
        {
          "output_type": "stream",
          "name": "stdout",
          "text": [
            "Enter your first name: Sudhakar Reddy\n",
            "Enter your last name: Venna\n",
            "Your fullname:  Sudhakar Reddy Venna\n"
          ]
        }
      ],
      "source": [
        "def fullname(firstname, lastname):\n",
        "  return firstname+\" \"+ lastname\n",
        "\n",
        "firstname = input('Enter your first name: ')\n",
        "lastname = input('Enter your last name: ')\n",
        "print('Your fullname: ', fullname(firstname, lastname))"
      ]
    },
    {
      "cell_type": "code",
      "source": [
        "def string_alternative(full_name):\n",
        "  out_str = \"\"\n",
        "  counter = 0\n",
        "  for i in full_name:\n",
        "    if counter == 0:\n",
        "      out_str += i\n",
        "      counter = 1\n",
        "    else:\n",
        "      counter = 0\n",
        "  return out_str\n",
        "\n",
        "def main():\n",
        "  first_name = input('Enter your first name: ')\n",
        "  last_name = input('Enter your last name: ')\n",
        "  full_name = first_name+\" \"+last_name\n",
        "  print('Alternatively formatted name: ', string_alternative(full_name))\n",
        "\n",
        "if __name__ == \"__main__\":\n",
        "  main()"
      ],
      "metadata": {
        "colab": {
          "base_uri": "https://localhost:8080/"
        },
        "id": "ZmiFYSCqyVwP",
        "outputId": "0d5b189f-92af-451a-fd37-0d69c8030faa"
      },
      "execution_count": 2,
      "outputs": [
        {
          "output_type": "stream",
          "name": "stdout",
          "text": [
            "Enter your first name: Good\n",
            "Enter your last name: evening\n",
            "Alternatively formatted name:  Go vnn\n"
          ]
        }
      ]
    },
    {
      "cell_type": "markdown",
      "source": [
        "Question 2"
      ],
      "metadata": {
        "id": "EbB0qCykyfte"
      }
    },
    {
      "cell_type": "code",
      "source": [
        "def frequencyOfWords(sentence):\n",
        "    wordStore = {}\n",
        "    words = sentence.split()\n",
        "\n",
        "    for i in words:\n",
        "        wordStore[i] = wordStore.get(i, 0) + 1\n",
        "\n",
        "    # returning the frequency of words stored in wordStore\n",
        "    return wordStore\n",
        "\n",
        "def file_processing(input_file_path, output_file_path):\n",
        "    with open(input_file_path, 'r') as infile, open(output_file_path, 'w') as outfile:\n",
        "        # Read all lines from the input file and concatenate them into a single string\n",
        "        sentences = ' '.join(line.strip() for line in infile)\n",
        "\n",
        "        # for calculating the word count:\n",
        "        wordStore = frequencyOfWords(sentences)\n",
        "\n",
        "        # writing the original sentence in output file:\n",
        "        outfile.write(\"Input sentence is: \" + sentences + \"\\n\" + \"\\n\")\n",
        "        outfile.write(\"Frequency of words:\" + \"\\n\" + \"\\n\")\n",
        "\n",
        "        # writing the word count for each word\n",
        "        for word, count in wordStore.items():\n",
        "            outfile.write(f\"{word}: {count}\" + \"\\n\")\n",
        "\n",
        "        outfile.write(\"\\n\")\n",
        "        # Create a sample input file\n",
        "with open('input.txt', 'w') as f:\n",
        "    f.write('Python Course. Deep Learning Course.')\n",
        "\n",
        "# Starts the file processing for finding the frequency of words\n",
        "file_processing('input.txt', 'output.txt')\n",
        "\n",
        "# List the files in the current directory\n",
        "import os\n",
        "#print(os.listdir())\n",
        "\n",
        "# Read and print the output file\n",
        "with open('output.txt', 'r') as f:\n",
        "    print(f.read())\n",
        "\n",
        "# Download the input file and output file to local machine\n",
        "from google.colab import files\n",
        "files.download('input.txt')\n",
        "files.download('output.txt')"
      ],
      "metadata": {
        "colab": {
          "base_uri": "https://localhost:8080/",
          "height": 196
        },
        "id": "6J0gmb64yfOl",
        "outputId": "157b517a-6a3b-409b-8c34-8eafa1fdb054"
      },
      "execution_count": 11,
      "outputs": [
        {
          "output_type": "stream",
          "name": "stdout",
          "text": [
            "Input sentence is: Python Course. Deep Learning Course.\n",
            "\n",
            "Frequency of words:\n",
            "\n",
            "Python: 1\n",
            "Course.: 2\n",
            "Deep: 1\n",
            "Learning: 1\n",
            "\n",
            "\n"
          ]
        },
        {
          "output_type": "display_data",
          "data": {
            "text/plain": [
              "<IPython.core.display.Javascript object>"
            ],
            "application/javascript": [
              "\n",
              "    async function download(id, filename, size) {\n",
              "      if (!google.colab.kernel.accessAllowed) {\n",
              "        return;\n",
              "      }\n",
              "      const div = document.createElement('div');\n",
              "      const label = document.createElement('label');\n",
              "      label.textContent = `Downloading \"${filename}\": `;\n",
              "      div.appendChild(label);\n",
              "      const progress = document.createElement('progress');\n",
              "      progress.max = size;\n",
              "      div.appendChild(progress);\n",
              "      document.body.appendChild(div);\n",
              "\n",
              "      const buffers = [];\n",
              "      let downloaded = 0;\n",
              "\n",
              "      const channel = await google.colab.kernel.comms.open(id);\n",
              "      // Send a message to notify the kernel that we're ready.\n",
              "      channel.send({})\n",
              "\n",
              "      for await (const message of channel.messages) {\n",
              "        // Send a message to notify the kernel that we're ready.\n",
              "        channel.send({})\n",
              "        if (message.buffers) {\n",
              "          for (const buffer of message.buffers) {\n",
              "            buffers.push(buffer);\n",
              "            downloaded += buffer.byteLength;\n",
              "            progress.value = downloaded;\n",
              "          }\n",
              "        }\n",
              "      }\n",
              "      const blob = new Blob(buffers, {type: 'application/binary'});\n",
              "      const a = document.createElement('a');\n",
              "      a.href = window.URL.createObjectURL(blob);\n",
              "      a.download = filename;\n",
              "      div.appendChild(a);\n",
              "      a.click();\n",
              "      div.remove();\n",
              "    }\n",
              "  "
            ]
          },
          "metadata": {}
        },
        {
          "output_type": "display_data",
          "data": {
            "text/plain": [
              "<IPython.core.display.Javascript object>"
            ],
            "application/javascript": [
              "download(\"download_cd37a84b-e504-483c-ae4e-2f548b56d68b\", \"input.txt\", 36)"
            ]
          },
          "metadata": {}
        },
        {
          "output_type": "display_data",
          "data": {
            "text/plain": [
              "<IPython.core.display.Javascript object>"
            ],
            "application/javascript": [
              "\n",
              "    async function download(id, filename, size) {\n",
              "      if (!google.colab.kernel.accessAllowed) {\n",
              "        return;\n",
              "      }\n",
              "      const div = document.createElement('div');\n",
              "      const label = document.createElement('label');\n",
              "      label.textContent = `Downloading \"${filename}\": `;\n",
              "      div.appendChild(label);\n",
              "      const progress = document.createElement('progress');\n",
              "      progress.max = size;\n",
              "      div.appendChild(progress);\n",
              "      document.body.appendChild(div);\n",
              "\n",
              "      const buffers = [];\n",
              "      let downloaded = 0;\n",
              "\n",
              "      const channel = await google.colab.kernel.comms.open(id);\n",
              "      // Send a message to notify the kernel that we're ready.\n",
              "      channel.send({})\n",
              "\n",
              "      for await (const message of channel.messages) {\n",
              "        // Send a message to notify the kernel that we're ready.\n",
              "        channel.send({})\n",
              "        if (message.buffers) {\n",
              "          for (const buffer of message.buffers) {\n",
              "            buffers.push(buffer);\n",
              "            downloaded += buffer.byteLength;\n",
              "            progress.value = downloaded;\n",
              "          }\n",
              "        }\n",
              "      }\n",
              "      const blob = new Blob(buffers, {type: 'application/binary'});\n",
              "      const a = document.createElement('a');\n",
              "      a.href = window.URL.createObjectURL(blob);\n",
              "      a.download = filename;\n",
              "      div.appendChild(a);\n",
              "      a.click();\n",
              "      div.remove();\n",
              "    }\n",
              "  "
            ]
          },
          "metadata": {}
        },
        {
          "output_type": "display_data",
          "data": {
            "text/plain": [
              "<IPython.core.display.Javascript object>"
            ],
            "application/javascript": [
              "download(\"download_a9a628df-0d7b-4c85-90b9-e35e0bc9d7c0\", \"output.txt\", 120)"
            ]
          },
          "metadata": {}
        }
      ]
    },
    {
      "cell_type": "markdown",
      "source": [
        "Question 3"
      ],
      "metadata": {
        "id": "9ONtIQI1zBQI"
      }
    },
    {
      "cell_type": "code",
      "source": [
        "def getHeightUsingLoop(heights_inches):\n",
        "    heights_centimeters = []\n",
        "    for height in heights_inches:\n",
        "        centimeters = height * 2.54\n",
        "        heights_centimeters.append(round(centimeters, 2))\n",
        "    return heights_centimeters\n",
        "\n",
        "def main():\n",
        "    # Input heights in inches from the user.\n",
        "    heights_inches = list(map(float, input(\"Enter the list numbers separated by comma: \").strip().split(\",\")))\n",
        "    print(\"Input List in Inches: \", heights_inches)\n",
        "\n",
        "    # Interactive loop for converting height into centimeters.\n",
        "    heights_cm_nested = getHeightUsingLoop(heights_inches)\n",
        "\n",
        "    # List comprehension for converting height into centimeters.\n",
        "    heights_cm_comprehension= [round(height * 2.54, 2) for height in heights_inches]\n",
        "\n",
        "    # Printing the results.\n",
        "    print(\"Heights using Nested Loop:\", heights_cm_nested)\n",
        "    print(\"Heights using List Comprehension:\", heights_cm_comprehension)\n",
        "\n",
        "if __name__ == \"__main__\":\n",
        "    main()"
      ],
      "metadata": {
        "colab": {
          "base_uri": "https://localhost:8080/"
        },
        "id": "OcBMMq38zA4o",
        "outputId": "26fa515c-9ad1-4f5d-d8da-24589c0257c0"
      },
      "execution_count": 14,
      "outputs": [
        {
          "output_type": "stream",
          "name": "stdout",
          "text": [
            "Enter the list numbers separated by comma: 150,155,145,148\n",
            "Input List in Inches:  [150.0, 155.0, 145.0, 148.0]\n",
            "Heights using Nested Loop: [381.0, 393.7, 368.3, 375.92]\n",
            "Heights using List Comprehension: [381.0, 393.7, 368.3, 375.92]\n"
          ]
        }
      ]
    }
  ]
}